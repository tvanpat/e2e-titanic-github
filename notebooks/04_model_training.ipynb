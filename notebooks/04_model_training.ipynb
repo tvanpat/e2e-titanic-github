{
 "cells": [
  {
   "cell_type": "markdown",
   "metadata": {},
   "source": [
    "# Used to train/test the predicition model"
   ]
  },
  {
   "cell_type": "code",
   "execution_count": null,
   "metadata": {},
   "outputs": [],
   "source": [
    "import pandas as pd\n",
    "import numpy as np\n",
    "from sklearn.model_selection import train_test_split\n",
    "from sklearn.pipeline import Pipeline\n",
    "from sklearn.metrics import accuracy_score\n",
    "from sklearn.model_selection import GridSearchCV\n",
    "import pickle"
   ]
  },
  {
   "cell_type": "code",
   "execution_count": 2,
   "metadata": {},
   "outputs": [],
   "source": [
    "#Import Models\n",
    "from sklearn.naive_bayes import GaussianNB\n",
    "from sklearn.linear_model import SGDClassifier\n",
    "from sklearn.neighbors import KNeighborsClassifier\n",
    "from sklearn.tree import DecisionTreeClassifier\n",
    "from sklearn.ensemble import RandomForestClassifier, GradientBoostingClassifier\n",
    "from sklearn.svm import SVC"
   ]
  },
  {
   "cell_type": "code",
   "execution_count": 3,
   "metadata": {},
   "outputs": [],
   "source": [
    "data_path = '/home/jovyan/work/data/training_titanic_dataset.csv'\n",
    "df = pd.read_csv(data_path, index_col=0)"
   ]
  },
  {
   "cell_type": "code",
   "execution_count": 4,
   "metadata": {},
   "outputs": [
    {
     "data": {
      "text/html": [
       "<div>\n",
       "<style scoped>\n",
       "    .dataframe tbody tr th:only-of-type {\n",
       "        vertical-align: middle;\n",
       "    }\n",
       "\n",
       "    .dataframe tbody tr th {\n",
       "        vertical-align: top;\n",
       "    }\n",
       "\n",
       "    .dataframe thead th {\n",
       "        text-align: right;\n",
       "    }\n",
       "</style>\n",
       "<table border=\"1\" class=\"dataframe\">\n",
       "  <thead>\n",
       "    <tr style=\"text-align: right;\">\n",
       "      <th></th>\n",
       "      <th>PassengerId</th>\n",
       "      <th>Survived</th>\n",
       "      <th>Pclass</th>\n",
       "      <th>Sex</th>\n",
       "      <th>Age</th>\n",
       "      <th>SibSp</th>\n",
       "      <th>Parch</th>\n",
       "      <th>Fare</th>\n",
       "      <th>Embarked</th>\n",
       "      <th>Imp_Embarked_mf</th>\n",
       "      <th>Imp_Age_Mean</th>\n",
       "      <th>Imp_Age_Median</th>\n",
       "      <th>Imp_Age_Rand</th>\n",
       "      <th>Imp_Det_Lin</th>\n",
       "      <th>Imp_Sto_Lin</th>\n",
       "    </tr>\n",
       "  </thead>\n",
       "  <tbody>\n",
       "    <tr>\n",
       "      <th>0</th>\n",
       "      <td>1</td>\n",
       "      <td>0</td>\n",
       "      <td>3</td>\n",
       "      <td>1</td>\n",
       "      <td>22.0</td>\n",
       "      <td>1</td>\n",
       "      <td>0</td>\n",
       "      <td>7.2500</td>\n",
       "      <td>1.0</td>\n",
       "      <td>1.0</td>\n",
       "      <td>22.0</td>\n",
       "      <td>22.0</td>\n",
       "      <td>22.0</td>\n",
       "      <td>22.0</td>\n",
       "      <td>22.0</td>\n",
       "    </tr>\n",
       "    <tr>\n",
       "      <th>1</th>\n",
       "      <td>2</td>\n",
       "      <td>1</td>\n",
       "      <td>1</td>\n",
       "      <td>0</td>\n",
       "      <td>38.0</td>\n",
       "      <td>1</td>\n",
       "      <td>0</td>\n",
       "      <td>71.2833</td>\n",
       "      <td>2.0</td>\n",
       "      <td>2.0</td>\n",
       "      <td>38.0</td>\n",
       "      <td>38.0</td>\n",
       "      <td>38.0</td>\n",
       "      <td>38.0</td>\n",
       "      <td>38.0</td>\n",
       "    </tr>\n",
       "    <tr>\n",
       "      <th>2</th>\n",
       "      <td>3</td>\n",
       "      <td>1</td>\n",
       "      <td>3</td>\n",
       "      <td>0</td>\n",
       "      <td>26.0</td>\n",
       "      <td>0</td>\n",
       "      <td>0</td>\n",
       "      <td>7.9250</td>\n",
       "      <td>1.0</td>\n",
       "      <td>1.0</td>\n",
       "      <td>26.0</td>\n",
       "      <td>26.0</td>\n",
       "      <td>26.0</td>\n",
       "      <td>26.0</td>\n",
       "      <td>26.0</td>\n",
       "    </tr>\n",
       "    <tr>\n",
       "      <th>3</th>\n",
       "      <td>4</td>\n",
       "      <td>1</td>\n",
       "      <td>1</td>\n",
       "      <td>0</td>\n",
       "      <td>35.0</td>\n",
       "      <td>1</td>\n",
       "      <td>0</td>\n",
       "      <td>53.1000</td>\n",
       "      <td>1.0</td>\n",
       "      <td>1.0</td>\n",
       "      <td>35.0</td>\n",
       "      <td>35.0</td>\n",
       "      <td>35.0</td>\n",
       "      <td>35.0</td>\n",
       "      <td>35.0</td>\n",
       "    </tr>\n",
       "    <tr>\n",
       "      <th>4</th>\n",
       "      <td>5</td>\n",
       "      <td>0</td>\n",
       "      <td>3</td>\n",
       "      <td>1</td>\n",
       "      <td>35.0</td>\n",
       "      <td>0</td>\n",
       "      <td>0</td>\n",
       "      <td>8.0500</td>\n",
       "      <td>1.0</td>\n",
       "      <td>1.0</td>\n",
       "      <td>35.0</td>\n",
       "      <td>35.0</td>\n",
       "      <td>35.0</td>\n",
       "      <td>35.0</td>\n",
       "      <td>35.0</td>\n",
       "    </tr>\n",
       "  </tbody>\n",
       "</table>\n",
       "</div>"
      ],
      "text/plain": [
       "   PassengerId  Survived  Pclass  Sex   Age  SibSp  Parch     Fare  Embarked  \\\n",
       "0            1         0       3    1  22.0      1      0   7.2500       1.0   \n",
       "1            2         1       1    0  38.0      1      0  71.2833       2.0   \n",
       "2            3         1       3    0  26.0      0      0   7.9250       1.0   \n",
       "3            4         1       1    0  35.0      1      0  53.1000       1.0   \n",
       "4            5         0       3    1  35.0      0      0   8.0500       1.0   \n",
       "\n",
       "   Imp_Embarked_mf  Imp_Age_Mean  Imp_Age_Median  Imp_Age_Rand  Imp_Det_Lin  \\\n",
       "0              1.0          22.0            22.0          22.0         22.0   \n",
       "1              2.0          38.0            38.0          38.0         38.0   \n",
       "2              1.0          26.0            26.0          26.0         26.0   \n",
       "3              1.0          35.0            35.0          35.0         35.0   \n",
       "4              1.0          35.0            35.0          35.0         35.0   \n",
       "\n",
       "   Imp_Sto_Lin  \n",
       "0         22.0  \n",
       "1         38.0  \n",
       "2         26.0  \n",
       "3         35.0  \n",
       "4         35.0  "
      ]
     },
     "execution_count": 4,
     "metadata": {},
     "output_type": "execute_result"
    }
   ],
   "source": [
    "df.head()"
   ]
  },
  {
   "cell_type": "code",
   "execution_count": 5,
   "metadata": {},
   "outputs": [],
   "source": [
    "# Create the test/train split\n",
    "x = df.drop('Survived', axis=1)\n",
    "y = df['Survived']\n",
    "x_train, x_test, y_train, y_test = train_test_split(x, y, test_size=.25, random_state=42)"
   ]
  },
  {
   "cell_type": "code",
   "execution_count": 6,
   "metadata": {},
   "outputs": [],
   "source": [
    "# Make a list of the imputed ages column names\n",
    "age_list = ['Imp_Age_Mean', 'Imp_Age_Median', 'Imp_Age_Rand', 'Imp_Det_Lin', 'Imp_Sto_Lin']\n",
    "\n",
    "# Make a list of the classifiers to evaluate\n",
    "classifiers = [\n",
    "    GaussianNB(),\n",
    "    SGDClassifier(),\n",
    "    KNeighborsClassifier(3),\n",
    "    DecisionTreeClassifier(),\n",
    "    RandomForestClassifier(),\n",
    "    SVC(kernel=\"rbf\", C=0.025, probability=True),\n",
    "    GradientBoostingClassifier()\n",
    "    ]"
   ]
  },
  {
   "cell_type": "code",
   "execution_count": 7,
   "metadata": {},
   "outputs": [],
   "source": [
    "# Using Loops we are going to go through the different imputations and models\n",
    "model_results = []\n",
    "\n",
    "for age in age_list:\n",
    "    x_train_tempdf = x_train[['Pclass', 'Sex', 'SibSp', 'Parch', 'Fare', 'Imp_Embarked_mf', age]]\n",
    "    x_test_tempdf = x_test[['Pclass', 'Sex', 'SibSp', 'Parch', 'Fare', 'Imp_Embarked_mf', age]]\n",
    "    for classifier in classifiers:\n",
    "        pipe = Pipeline(steps=[('classifier', classifier)])\n",
    "        pipe.fit(x_train_tempdf, y_train)\n",
    "        #print(f\"The Results for {age} imputation and classifier is {classifier}\")\n",
    "        #print(\"model score: %.3f\" % pipe.score(x_test_tempdf, y_test))\n",
    "        name = f\"{age}-{classifier}\"\n",
    "        model_results.append((name, pipe.score(x_test_tempdf, y_test)))"
   ]
  },
  {
   "cell_type": "code",
   "execution_count": 8,
   "metadata": {},
   "outputs": [
    {
     "data": {
      "text/plain": [
       "[('Imp_Det_Lin-GradientBoostingClassifier()', 0.8430493273542601),\n",
       " ('Imp_Sto_Lin-GradientBoostingClassifier()', 0.8385650224215246),\n",
       " ('Imp_Det_Lin-RandomForestClassifier()', 0.8340807174887892),\n",
       " ('Imp_Sto_Lin-RandomForestClassifier()', 0.8295964125560538),\n",
       " ('Imp_Age_Mean-GradientBoostingClassifier()', 0.820627802690583),\n",
       " ('Imp_Age_Rand-GradientBoostingClassifier()', 0.820627802690583),\n",
       " ('Imp_Age_Median-GradientBoostingClassifier()', 0.8116591928251121),\n",
       " ('Imp_Age_Mean-RandomForestClassifier()', 0.8026905829596412),\n",
       " ('Imp_Age_Rand-RandomForestClassifier()', 0.7982062780269058),\n",
       " ('Imp_Age_Rand-GaussianNB()', 0.7892376681614349)]"
      ]
     },
     "execution_count": 8,
     "metadata": {},
     "output_type": "execute_result"
    }
   ],
   "source": [
    "#get model results in order\n",
    "model_results = sorted(model_results, key=lambda x: x[1], reverse=True)\n",
    "#Print top 5 models\n",
    "model_results[:10]"
   ]
  },
  {
   "cell_type": "code",
   "execution_count": 9,
   "metadata": {},
   "outputs": [],
   "source": [
    "#Lets take the GBC as is and run it through the kaggle test data"
   ]
  },
  {
   "cell_type": "code",
   "execution_count": 10,
   "metadata": {},
   "outputs": [
    {
     "data": {
      "text/plain": [
       "GradientBoostingClassifier()"
      ]
     },
     "execution_count": 10,
     "metadata": {},
     "output_type": "execute_result"
    }
   ],
   "source": [
    "clf = GradientBoostingClassifier()\n",
    "gcb_x_train = x_train[['Pclass', 'Sex', 'SibSp', 'Parch', 'Fare', 'Imp_Embarked_mf', 'Imp_Det_Lin']]\n",
    "gcb_x_test = x_test[['Pclass', 'Sex', 'SibSp', 'Parch', 'Fare', 'Imp_Embarked_mf', 'Imp_Det_Lin']]\n",
    "clf.fit(gcb_x_train, y_train)"
   ]
  },
  {
   "cell_type": "code",
   "execution_count": 11,
   "metadata": {},
   "outputs": [
    {
     "data": {
      "text/plain": [
       "0.8430493273542601"
      ]
     },
     "execution_count": 11,
     "metadata": {},
     "output_type": "execute_result"
    }
   ],
   "source": [
    "clf.score(gcb_x_test, y_test)"
   ]
  },
  {
   "cell_type": "code",
   "execution_count": null,
   "metadata": {},
   "outputs": [],
   "source": [
    "filename = '/home/jovyan/work/src/app/assets/models/current_models/finalized_gbc_model_11_30_2020.sav'\n",
    "pickle.dump(clf, open(filename, 'wb'))"
   ]
  },
  {
   "cell_type": "code",
   "execution_count": 12,
   "metadata": {},
   "outputs": [],
   "source": [
    "#This is the predict"
   ]
  },
  {
   "cell_type": "code",
   "execution_count": 28,
   "metadata": {},
   "outputs": [],
   "source": [
    "# Read in the Kaggle Test Dataframe\n",
    "data_path = '/home/jovyan/work/data/test.csv'\n",
    "testdf = pd.read_csv(data_path, index_col=0)\n",
    "\n",
    "gender = {\n",
    "    'male': 1,\n",
    "    'female':0\n",
    "}\n",
    "\n",
    "embark = {\n",
    "    'S': 1,\n",
    "    'C':2,\n",
    "    'Q':3\n",
    "}\n",
    "\n",
    "testdf['Sex'] = testdf['Sex'].apply(lambda x: gender.get(x))\n",
    "testdf['Embarked'] = testdf['Embarked'].apply(lambda x: embark.get(x))\n",
    "# Now to build in the imputation function for Embarked and age\n",
    "import sys\n",
    "sys.path.insert(1, '/home/jovyan/work/src/app')\n",
    "from modules.data_pre import lin_model_age\n",
    "from modules.data_pre import most_common\n",
    "\n",
    "testdf['Imp_Embarked_mf'] = testdf['Embarked']\n",
    "testdf['Imp_Embarked_mf'] = testdf['Imp_Embarked_mf'].apply(most_common, mf_value=testdf['Embarked'].value_counts().idxmax().tolist())\n",
    "testdf['Imp_Fare_mf'] = testdf['Fare']\n",
    "testdf['Imp_Fare_mf'] = testdf['Imp_Fare_mf'].apply(most_common, mf_value=testdf['Fare'].value_counts().idxmax().tolist())\n",
    "testdf['Imp_Det_Lin'] = testdf.apply(lin_model_age, axis=1)"
   ]
  },
  {
   "cell_type": "code",
   "execution_count": 1,
   "metadata": {},
   "outputs": [
    {
     "ename": "SyntaxError",
     "evalue": "invalid syntax (<ipython-input-1-4099fc9b966a>, line 3)",
     "output_type": "error",
     "traceback": [
      "\u001b[0;36m  File \u001b[0;32m\"<ipython-input-1-4099fc9b966a>\"\u001b[0;36m, line \u001b[0;32m3\u001b[0m\n\u001b[0;31m    pred_surive = clf.predict(xnew)[0]\u001b[0m\n\u001b[0m    ^\u001b[0m\n\u001b[0;31mSyntaxError\u001b[0m\u001b[0;31m:\u001b[0m invalid syntax\n"
     ]
    }
   ],
   "source": [
    "def survive_pred(data):\n",
    "    xnew = [[data['Pclass'], data['Sex'], data['SibSp'],data['Parch'], data['Imp_Fare_mf'], data['Imp_Embarked_mf'], data['Imp_Det_Lin']]]\n",
    "    pred_surive = clf.predict(xnew)[0]\n",
    "    return pred_surive"
   ]
  },
  {
   "cell_type": "code",
   "execution_count": 32,
   "metadata": {},
   "outputs": [],
   "source": [
    "testdf['Pred_Survive'] = testdf.apply(survive_pred, axis=1)"
   ]
  },
  {
   "cell_type": "code",
   "execution_count": 37,
   "metadata": {},
   "outputs": [],
   "source": [
    "subdf = testdf[['Pred_Survive']]"
   ]
  },
  {
   "cell_type": "code",
   "execution_count": 40,
   "metadata": {},
   "outputs": [],
   "source": [
    "save_data_path = '/home/jovyan/work/data/kaggle_sub.csv'\n",
    "subdf.to_csv(save_data_path)"
   ]
  },
  {
   "cell_type": "code",
   "execution_count": null,
   "metadata": {},
   "outputs": [],
   "source": [
    "'''\n",
    "This model validated at .77990 on Kaggle.  So while pretty good, it needs some work.  \n",
    "However, as the purpose of this project to build a full end to end prediction with rendezvous architecture\n",
    "to demonstrate how to build a model, develop it, and continue improvements using microservcies.\n",
    "So the next step is to save the model and start working on the API.\n",
    "'''"
   ]
  },
  {
   "cell_type": "code",
   "execution_count": null,
   "metadata": {},
   "outputs": [],
   "source": []
  }
 ],
 "metadata": {
  "kernelspec": {
   "display_name": "Python 3",
   "language": "python",
   "name": "python3"
  },
  "language_info": {
   "codemirror_mode": {
    "name": "ipython",
    "version": 3
   },
   "file_extension": ".py",
   "mimetype": "text/x-python",
   "name": "python",
   "nbconvert_exporter": "python",
   "pygments_lexer": "ipython3",
   "version": "3.8.8"
  }
 },
 "nbformat": 4,
 "nbformat_minor": 4
}
