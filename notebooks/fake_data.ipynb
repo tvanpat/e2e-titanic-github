{
 "cells": [
  {
   "cell_type": "code",
   "execution_count": 18,
   "id": "b61bc397-3a9e-4354-a7cf-8cface7d2626",
   "metadata": {},
   "outputs": [],
   "source": [
    "import random\n",
    "import uuid"
   ]
  },
  {
   "cell_type": "code",
   "execution_count": 19,
   "id": "b59bb378-dc1e-4d1e-b4b5-32fe740a81d0",
   "metadata": {},
   "outputs": [],
   "source": [
    "def create_fake():\n",
    "    gender = ['male', 'female']\n",
    "    embarked_locs = ['Q', 'S', 'C']\n",
    "    pclass = random.randint(1,3)\n",
    "    sex = gender[random.randint(0,len(gender)-1)]\n",
    "    sibsp = random.randint(0,8)\n",
    "    parch = random.randint(0,5)\n",
    "    fare = round(random.uniform(0, 512),3)\n",
    "    embarked = embarked_locs[random.randint(0,len(embarked_locs)-1)]\n",
    "    age = random.randint(0,80)\n",
    "    passid = f'fake_data_{str(uuid.uuid4())}'\n",
    "    return({'pclass': pclass, 'sex': sex, 'sibsp': sibsp, 'parch': parch, 'fare': fare, 'embarked': embarked, 'age': age, 'passid': passid})"
   ]
  },
  {
   "cell_type": "code",
   "execution_count": 20,
   "id": "8ee02514-4e0f-4c04-b172-7b10a30e899f",
   "metadata": {},
   "outputs": [],
   "source": [
    "newlist = []\n",
    "for i in range(500):\n",
    "    newlist.append(create_fake())"
   ]
  },
  {
   "cell_type": "code",
   "execution_count": 21,
   "id": "0cc0574d-d341-4387-bf9a-8025e83386b3",
   "metadata": {},
   "outputs": [
    {
     "data": {
      "text/plain": [
       "{'pclass': 3,\n",
       " 'sex': 'male',\n",
       " 'sibsp': 7,\n",
       " 'parch': 4,\n",
       " 'fare': 73.409,\n",
       " 'embarked': 'C',\n",
       " 'age': 62,\n",
       " 'passid': 'fake_data_856c1de1-a4cc-4214-b508-40aaba128da0'}"
      ]
     },
     "execution_count": 21,
     "metadata": {},
     "output_type": "execute_result"
    }
   ],
   "source": [
    "newlist[0]"
   ]
  },
  {
   "cell_type": "code",
   "execution_count": 22,
   "id": "ce775ae9-1e31-4360-ae1a-440deb809271",
   "metadata": {},
   "outputs": [],
   "source": [
    "URL = \"http://192.168.86.61:8002/multititanicpred2\""
   ]
  },
  {
   "cell_type": "code",
   "execution_count": 24,
   "id": "e68fcb5d-7ea2-4ecf-abb3-c970fe739e48",
   "metadata": {},
   "outputs": [],
   "source": [
    "r = requests.post(url = URL, json = newlist)\n",
    "data = r.json()"
   ]
  },
  {
   "cell_type": "code",
   "execution_count": 17,
   "id": "96d9857a-b202-4cb1-add2-d5a31ee79859",
   "metadata": {},
   "outputs": [
    {
     "data": {
      "text/plain": [
       "'b2d49da2-e3eb-4dea-82a6-3905aa3fd2be'"
      ]
     },
     "execution_count": 17,
     "metadata": {},
     "output_type": "execute_result"
    }
   ],
   "source": [
    "str(uuid.uuid4())"
   ]
  },
  {
   "cell_type": "code",
   "execution_count": null,
   "id": "2811dbe1-15e4-49ec-8e54-c2c3ad0050fc",
   "metadata": {},
   "outputs": [],
   "source": []
  }
 ],
 "metadata": {
  "kernelspec": {
   "display_name": "Python 3",
   "language": "python",
   "name": "python3"
  },
  "language_info": {
   "codemirror_mode": {
    "name": "ipython",
    "version": 3
   },
   "file_extension": ".py",
   "mimetype": "text/x-python",
   "name": "python",
   "nbconvert_exporter": "python",
   "pygments_lexer": "ipython3",
   "version": "3.9.4"
  }
 },
 "nbformat": 4,
 "nbformat_minor": 5
}
