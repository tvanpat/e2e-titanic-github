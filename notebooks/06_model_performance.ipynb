{
 "cells": [
  {
   "cell_type": "code",
   "execution_count": 9,
   "id": "284a51cc-c51c-4d44-8c3f-649a9d3bc9ac",
   "metadata": {},
   "outputs": [],
   "source": [
    "import sys\n",
    "import pandas as pd\n",
    "import numpy as np\n",
    "import matplotlib.pyplot as plt\n",
    "import seaborn as sns\n",
    "sys.path.insert(1, '/home/jovyan/work/src/app')\n",
    "from modules.mongo_data import *\n",
    "\n",
    "sns.set_style('whitegrid')"
   ]
  },
  {
   "cell_type": "markdown",
   "id": "be8eb6dc-d9ce-4e46-8171-8b8710fccb74",
   "metadata": {},
   "source": [
    "## Get the Raw Data Input"
   ]
  },
  {
   "cell_type": "code",
   "execution_count": 2,
   "id": "55495285-4d56-4274-b4a1-07e81bf81904",
   "metadata": {},
   "outputs": [],
   "source": [
    "raw_datadf = pd.DataFrame.from_dict(input_datadf())\n",
    "raw_datadf.set_index('passid', inplace = True)"
   ]
  },
  {
   "cell_type": "code",
   "execution_count": 3,
   "id": "e0981c6f-315f-4f2e-9a00-e41bbfefce42",
   "metadata": {},
   "outputs": [
    {
     "data": {
      "text/html": [
       "<div>\n",
       "<style scoped>\n",
       "    .dataframe tbody tr th:only-of-type {\n",
       "        vertical-align: middle;\n",
       "    }\n",
       "\n",
       "    .dataframe tbody tr th {\n",
       "        vertical-align: top;\n",
       "    }\n",
       "\n",
       "    .dataframe thead th {\n",
       "        text-align: right;\n",
       "    }\n",
       "</style>\n",
       "<table border=\"1\" class=\"dataframe\">\n",
       "  <thead>\n",
       "    <tr style=\"text-align: right;\">\n",
       "      <th></th>\n",
       "      <th>dtg_gmt</th>\n",
       "      <th>input_pclass</th>\n",
       "      <th>input_sex</th>\n",
       "      <th>input_sibsp</th>\n",
       "      <th>input_parch</th>\n",
       "      <th>input_fare</th>\n",
       "      <th>input_embarked</th>\n",
       "      <th>input_age</th>\n",
       "    </tr>\n",
       "    <tr>\n",
       "      <th>passid</th>\n",
       "      <th></th>\n",
       "      <th></th>\n",
       "      <th></th>\n",
       "      <th></th>\n",
       "      <th></th>\n",
       "      <th></th>\n",
       "      <th></th>\n",
       "      <th></th>\n",
       "    </tr>\n",
       "  </thead>\n",
       "  <tbody>\n",
       "    <tr>\n",
       "      <th>fake_data_856c1de1-a4cc-4214-b508-40aaba128da0</th>\n",
       "      <td>2021-06-15 16:51:37.024</td>\n",
       "      <td>3</td>\n",
       "      <td>male</td>\n",
       "      <td>7</td>\n",
       "      <td>4</td>\n",
       "      <td>73.409</td>\n",
       "      <td>C</td>\n",
       "      <td>62.0</td>\n",
       "    </tr>\n",
       "    <tr>\n",
       "      <th>fake_data_4be1c7c4-1c9b-43b1-be7e-4daa152699fc</th>\n",
       "      <td>2021-06-15 16:51:37.025</td>\n",
       "      <td>2</td>\n",
       "      <td>female</td>\n",
       "      <td>7</td>\n",
       "      <td>5</td>\n",
       "      <td>131.783</td>\n",
       "      <td>Q</td>\n",
       "      <td>74.0</td>\n",
       "    </tr>\n",
       "    <tr>\n",
       "      <th>fake_data_4586cd43-9cdb-4bab-8561-eddf0f1f67ed</th>\n",
       "      <td>2021-06-15 16:51:37.026</td>\n",
       "      <td>3</td>\n",
       "      <td>male</td>\n",
       "      <td>1</td>\n",
       "      <td>0</td>\n",
       "      <td>219.477</td>\n",
       "      <td>Q</td>\n",
       "      <td>37.0</td>\n",
       "    </tr>\n",
       "    <tr>\n",
       "      <th>fake_data_7c9b8a53-e06c-4306-a39a-ad908ce8223b</th>\n",
       "      <td>2021-06-15 16:51:37.026</td>\n",
       "      <td>2</td>\n",
       "      <td>male</td>\n",
       "      <td>4</td>\n",
       "      <td>3</td>\n",
       "      <td>376.442</td>\n",
       "      <td>C</td>\n",
       "      <td>14.0</td>\n",
       "    </tr>\n",
       "    <tr>\n",
       "      <th>fake_data_e7c34063-6ebf-43dc-b4d4-8a55b8485360</th>\n",
       "      <td>2021-06-15 16:51:37.027</td>\n",
       "      <td>3</td>\n",
       "      <td>female</td>\n",
       "      <td>8</td>\n",
       "      <td>3</td>\n",
       "      <td>375.610</td>\n",
       "      <td>Q</td>\n",
       "      <td>26.0</td>\n",
       "    </tr>\n",
       "  </tbody>\n",
       "</table>\n",
       "</div>"
      ],
      "text/plain": [
       "                                                               dtg_gmt  \\\n",
       "passid                                                                   \n",
       "fake_data_856c1de1-a4cc-4214-b508-40aaba128da0 2021-06-15 16:51:37.024   \n",
       "fake_data_4be1c7c4-1c9b-43b1-be7e-4daa152699fc 2021-06-15 16:51:37.025   \n",
       "fake_data_4586cd43-9cdb-4bab-8561-eddf0f1f67ed 2021-06-15 16:51:37.026   \n",
       "fake_data_7c9b8a53-e06c-4306-a39a-ad908ce8223b 2021-06-15 16:51:37.026   \n",
       "fake_data_e7c34063-6ebf-43dc-b4d4-8a55b8485360 2021-06-15 16:51:37.027   \n",
       "\n",
       "                                                input_pclass input_sex  \\\n",
       "passid                                                                   \n",
       "fake_data_856c1de1-a4cc-4214-b508-40aaba128da0             3      male   \n",
       "fake_data_4be1c7c4-1c9b-43b1-be7e-4daa152699fc             2    female   \n",
       "fake_data_4586cd43-9cdb-4bab-8561-eddf0f1f67ed             3      male   \n",
       "fake_data_7c9b8a53-e06c-4306-a39a-ad908ce8223b             2      male   \n",
       "fake_data_e7c34063-6ebf-43dc-b4d4-8a55b8485360             3    female   \n",
       "\n",
       "                                                input_sibsp  input_parch  \\\n",
       "passid                                                                     \n",
       "fake_data_856c1de1-a4cc-4214-b508-40aaba128da0            7            4   \n",
       "fake_data_4be1c7c4-1c9b-43b1-be7e-4daa152699fc            7            5   \n",
       "fake_data_4586cd43-9cdb-4bab-8561-eddf0f1f67ed            1            0   \n",
       "fake_data_7c9b8a53-e06c-4306-a39a-ad908ce8223b            4            3   \n",
       "fake_data_e7c34063-6ebf-43dc-b4d4-8a55b8485360            8            3   \n",
       "\n",
       "                                                input_fare input_embarked  \\\n",
       "passid                                                                      \n",
       "fake_data_856c1de1-a4cc-4214-b508-40aaba128da0      73.409              C   \n",
       "fake_data_4be1c7c4-1c9b-43b1-be7e-4daa152699fc     131.783              Q   \n",
       "fake_data_4586cd43-9cdb-4bab-8561-eddf0f1f67ed     219.477              Q   \n",
       "fake_data_7c9b8a53-e06c-4306-a39a-ad908ce8223b     376.442              C   \n",
       "fake_data_e7c34063-6ebf-43dc-b4d4-8a55b8485360     375.610              Q   \n",
       "\n",
       "                                                input_age  \n",
       "passid                                                     \n",
       "fake_data_856c1de1-a4cc-4214-b508-40aaba128da0       62.0  \n",
       "fake_data_4be1c7c4-1c9b-43b1-be7e-4daa152699fc       74.0  \n",
       "fake_data_4586cd43-9cdb-4bab-8561-eddf0f1f67ed       37.0  \n",
       "fake_data_7c9b8a53-e06c-4306-a39a-ad908ce8223b       14.0  \n",
       "fake_data_e7c34063-6ebf-43dc-b4d4-8a55b8485360       26.0  "
      ]
     },
     "execution_count": 3,
     "metadata": {},
     "output_type": "execute_result"
    }
   ],
   "source": [
    "raw_datadf.head()"
   ]
  },
  {
   "cell_type": "code",
   "execution_count": 10,
   "id": "d295882e-3a56-4e3c-b0b8-df0aa4053986",
   "metadata": {},
   "outputs": [
    {
     "data": {
      "text/plain": [
       "<seaborn.axisgrid.FacetGrid at 0x7fa72d0791c0>"
      ]
     },
     "execution_count": 10,
     "metadata": {},
     "output_type": "execute_result"
    },
    {
     "data": {
      "text/plain": [
       "<Figure size 576x576 with 0 Axes>"
      ]
     },
     "metadata": {},
     "output_type": "display_data"
    },
    {
     "data": {
      "image/png": "[encoded data removed]",
      "text/plain": [
       "<Figure size 360x360 with 1 Axes>"
      ]
     },
     "metadata": {},
     "output_type": "display_data"
    }
   ],
   "source": [
    "plt.figure(figsize=(8,8))\n",
    "sns.displot(raw_datadf['input_age'], kde=True)"
   ]
  },
  {
   "cell_type": "markdown",
   "id": "04cb0882-96c8-4127-9baa-5ded1da22089",
   "metadata": {},
   "source": [
    "## Get the Baseline Model Results"
   ]
  },
  {
   "cell_type": "code",
   "execution_count": 4,
   "id": "eeb6d290-e6ec-45ef-9237-dd2652437f19",
   "metadata": {},
   "outputs": [],
   "source": [
    "baseline_datadf = pd.DataFrame.from_dict(model_datadf('baseline_results'))\n",
    "baseline_datadf.set_index('passid', inplace = True)"
   ]
  },
  {
   "cell_type": "code",
   "execution_count": 5,
   "id": "fd0f7e75-0a43-4545-be56-0014ea575db8",
   "metadata": {},
   "outputs": [
    {
     "data": {
      "text/html": [
       "<div>\n",
       "<style scoped>\n",
       "    .dataframe tbody tr th:only-of-type {\n",
       "        vertical-align: middle;\n",
       "    }\n",
       "\n",
       "    .dataframe tbody tr th {\n",
       "        vertical-align: top;\n",
       "    }\n",
       "\n",
       "    .dataframe thead th {\n",
       "        text-align: right;\n",
       "    }\n",
       "</style>\n",
       "<table border=\"1\" class=\"dataframe\">\n",
       "  <thead>\n",
       "    <tr style=\"text-align: right;\">\n",
       "      <th></th>\n",
       "      <th>dtg_gmt</th>\n",
       "      <th>model_name</th>\n",
       "      <th>pred_survive</th>\n",
       "      <th>pred_word</th>\n",
       "      <th>trans_pclass</th>\n",
       "      <th>sex</th>\n",
       "      <th>sibsp</th>\n",
       "      <th>parch</th>\n",
       "      <th>fare</th>\n",
       "      <th>embarked</th>\n",
       "      <th>age</th>\n",
       "    </tr>\n",
       "    <tr>\n",
       "      <th>passid</th>\n",
       "      <th></th>\n",
       "      <th></th>\n",
       "      <th></th>\n",
       "      <th></th>\n",
       "      <th></th>\n",
       "      <th></th>\n",
       "      <th></th>\n",
       "      <th></th>\n",
       "      <th></th>\n",
       "      <th></th>\n",
       "      <th></th>\n",
       "    </tr>\n",
       "  </thead>\n",
       "  <tbody>\n",
       "    <tr>\n",
       "      <th>fake_data_856c1de1-a4cc-4214-b508-40aaba128da0</th>\n",
       "      <td>2021-06-15 16:51:37.024</td>\n",
       "      <td>GradientBoostingClassifier_11_30_2020</td>\n",
       "      <td>0</td>\n",
       "      <td>Did Not Survive</td>\n",
       "      <td>3</td>\n",
       "      <td>1</td>\n",
       "      <td>7</td>\n",
       "      <td>4</td>\n",
       "      <td>73.409</td>\n",
       "      <td>2</td>\n",
       "      <td>62.0</td>\n",
       "    </tr>\n",
       "    <tr>\n",
       "      <th>fake_data_4be1c7c4-1c9b-43b1-be7e-4daa152699fc</th>\n",
       "      <td>2021-06-15 16:51:37.025</td>\n",
       "      <td>GradientBoostingClassifier_11_30_2020</td>\n",
       "      <td>1</td>\n",
       "      <td>Survived</td>\n",
       "      <td>2</td>\n",
       "      <td>0</td>\n",
       "      <td>7</td>\n",
       "      <td>5</td>\n",
       "      <td>131.783</td>\n",
       "      <td>3</td>\n",
       "      <td>74.0</td>\n",
       "    </tr>\n",
       "    <tr>\n",
       "      <th>fake_data_4586cd43-9cdb-4bab-8561-eddf0f1f67ed</th>\n",
       "      <td>2021-06-15 16:51:37.026</td>\n",
       "      <td>GradientBoostingClassifier_11_30_2020</td>\n",
       "      <td>0</td>\n",
       "      <td>Did Not Survive</td>\n",
       "      <td>3</td>\n",
       "      <td>1</td>\n",
       "      <td>1</td>\n",
       "      <td>0</td>\n",
       "      <td>219.477</td>\n",
       "      <td>3</td>\n",
       "      <td>37.0</td>\n",
       "    </tr>\n",
       "    <tr>\n",
       "      <th>fake_data_7c9b8a53-e06c-4306-a39a-ad908ce8223b</th>\n",
       "      <td>2021-06-15 16:51:37.026</td>\n",
       "      <td>GradientBoostingClassifier_11_30_2020</td>\n",
       "      <td>0</td>\n",
       "      <td>Did Not Survive</td>\n",
       "      <td>2</td>\n",
       "      <td>1</td>\n",
       "      <td>4</td>\n",
       "      <td>3</td>\n",
       "      <td>376.442</td>\n",
       "      <td>2</td>\n",
       "      <td>14.0</td>\n",
       "    </tr>\n",
       "    <tr>\n",
       "      <th>fake_data_e7c34063-6ebf-43dc-b4d4-8a55b8485360</th>\n",
       "      <td>2021-06-15 16:51:37.027</td>\n",
       "      <td>GradientBoostingClassifier_11_30_2020</td>\n",
       "      <td>0</td>\n",
       "      <td>Did Not Survive</td>\n",
       "      <td>3</td>\n",
       "      <td>0</td>\n",
       "      <td>8</td>\n",
       "      <td>3</td>\n",
       "      <td>375.610</td>\n",
       "      <td>3</td>\n",
       "      <td>26.0</td>\n",
       "    </tr>\n",
       "  </tbody>\n",
       "</table>\n",
       "</div>"
      ],
      "text/plain": [
       "                                                               dtg_gmt  \\\n",
       "passid                                                                   \n",
       "fake_data_856c1de1-a4cc-4214-b508-40aaba128da0 2021-06-15 16:51:37.024   \n",
       "fake_data_4be1c7c4-1c9b-43b1-be7e-4daa152699fc 2021-06-15 16:51:37.025   \n",
       "fake_data_4586cd43-9cdb-4bab-8561-eddf0f1f67ed 2021-06-15 16:51:37.026   \n",
       "fake_data_7c9b8a53-e06c-4306-a39a-ad908ce8223b 2021-06-15 16:51:37.026   \n",
       "fake_data_e7c34063-6ebf-43dc-b4d4-8a55b8485360 2021-06-15 16:51:37.027   \n",
       "\n",
       "                                                                           model_name  \\\n",
       "passid                                                                                  \n",
       "fake_data_856c1de1-a4cc-4214-b508-40aaba128da0  GradientBoostingClassifier_11_30_2020   \n",
       "fake_data_4be1c7c4-1c9b-43b1-be7e-4daa152699fc  GradientBoostingClassifier_11_30_2020   \n",
       "fake_data_4586cd43-9cdb-4bab-8561-eddf0f1f67ed  GradientBoostingClassifier_11_30_2020   \n",
       "fake_data_7c9b8a53-e06c-4306-a39a-ad908ce8223b  GradientBoostingClassifier_11_30_2020   \n",
       "fake_data_e7c34063-6ebf-43dc-b4d4-8a55b8485360  GradientBoostingClassifier_11_30_2020   \n",
       "\n",
       "                                                pred_survive        pred_word  \\\n",
       "passid                                                                          \n",
       "fake_data_856c1de1-a4cc-4214-b508-40aaba128da0             0  Did Not Survive   \n",
       "fake_data_4be1c7c4-1c9b-43b1-be7e-4daa152699fc             1         Survived   \n",
       "fake_data_4586cd43-9cdb-4bab-8561-eddf0f1f67ed             0  Did Not Survive   \n",
       "fake_data_7c9b8a53-e06c-4306-a39a-ad908ce8223b             0  Did Not Survive   \n",
       "fake_data_e7c34063-6ebf-43dc-b4d4-8a55b8485360             0  Did Not Survive   \n",
       "\n",
       "                                                trans_pclass  sex  sibsp  \\\n",
       "passid                                                                     \n",
       "fake_data_856c1de1-a4cc-4214-b508-40aaba128da0             3    1      7   \n",
       "fake_data_4be1c7c4-1c9b-43b1-be7e-4daa152699fc             2    0      7   \n",
       "fake_data_4586cd43-9cdb-4bab-8561-eddf0f1f67ed             3    1      1   \n",
       "fake_data_7c9b8a53-e06c-4306-a39a-ad908ce8223b             2    1      4   \n",
       "fake_data_e7c34063-6ebf-43dc-b4d4-8a55b8485360             3    0      8   \n",
       "\n",
       "                                                parch     fare  embarked   age  \n",
       "passid                                                                          \n",
       "fake_data_856c1de1-a4cc-4214-b508-40aaba128da0      4   73.409         2  62.0  \n",
       "fake_data_4be1c7c4-1c9b-43b1-be7e-4daa152699fc      5  131.783         3  74.0  \n",
       "fake_data_4586cd43-9cdb-4bab-8561-eddf0f1f67ed      0  219.477         3  37.0  \n",
       "fake_data_7c9b8a53-e06c-4306-a39a-ad908ce8223b      3  376.442         2  14.0  \n",
       "fake_data_e7c34063-6ebf-43dc-b4d4-8a55b8485360      3  375.610         3  26.0  "
      ]
     },
     "execution_count": 5,
     "metadata": {},
     "output_type": "execute_result"
    }
   ],
   "source": [
    "baseline_datadf.head()"
   ]
  },
  {
   "cell_type": "code",
   "execution_count": 13,
   "id": "629fd7b8-e38e-4153-815f-ff989ae5f50a",
   "metadata": {},
   "outputs": [
    {
     "data": {
      "text/plain": [
       "<AxesSubplot:xlabel='pred_survive', ylabel='count'>"
      ]
     },
     "execution_count": 13,
     "metadata": {},
     "output_type": "execute_result"
    },
    {
     "data": {
      "image/png": "[encoded data removed]",
      "text/plain": [
       "<Figure size 576x432 with 1 Axes>"
      ]
     },
     "metadata": {},
     "output_type": "display_data"
    }
   ],
   "source": [
    "plt.figure(figsize=(8,6))\n",
    "sns.countplot(x = 'pred_survive', data = baseline_datadf)"
   ]
  },
  {
   "cell_type": "code",
   "execution_count": 16,
   "id": "65350c1c-076e-49e0-8adc-3da146bac0c4",
   "metadata": {},
   "outputs": [
    {
     "data": {
      "text/plain": [
       "<AxesSubplot:xlabel='sex', ylabel='count'>"
      ]
     },
     "execution_count": 16,
     "metadata": {},
     "output_type": "execute_result"
    },
    {
     "data": {
      "image/png": "[encoded data removed]",
      "text/plain": [
       "<Figure size 576x432 with 1 Axes>"
      ]
     },
     "metadata": {},
     "output_type": "display_data"
    }
   ],
   "source": [
    "plt.figure(figsize=(8,6))\n",
    "sns.countplot(x = 'sex', hue = 'pred_survive', data = baseline_datadf)"
   ]
  },
  {
   "cell_type": "code",
   "execution_count": 17,
   "id": "a6310d10-7f86-42f9-ad86-c769404b0033",
   "metadata": {},
   "outputs": [
    {
     "data": {
      "text/plain": [
       "<AxesSubplot:xlabel='embarked', ylabel='count'>"
      ]
     },
     "execution_count": 17,
     "metadata": {},
     "output_type": "execute_result"
    },
    {
     "data": {
      "image/png": "[encoded data removed]",
      "text/plain": [
       "<Figure size 576x432 with 1 Axes>"
      ]
     },
     "metadata": {},
     "output_type": "display_data"
    }
   ],
   "source": [
    "plt.figure(figsize=(8,6))\n",
    "sns.countplot(x = 'embarked', hue = 'pred_survive', data = baseline_datadf)"
   ]
  },
  {
   "cell_type": "code",
   "execution_count": null,
   "id": "13f30817-6467-402c-9ec2-13a83870da69",
   "metadata": {},
   "outputs": [],
   "source": []
  },
  {
   "cell_type": "markdown",
   "id": "08f2c7f0-d1b7-4a8a-bdcc-f73e99ff30dc",
   "metadata": {},
   "source": [
    "## Get the Production Model Results"
   ]
  },
  {
   "cell_type": "code",
   "execution_count": 6,
   "id": "34ef7d52-4336-49e5-844d-f660a4550b63",
   "metadata": {},
   "outputs": [],
   "source": [
    "prod_datadf = pd.DataFrame.from_dict(model_datadf('prod_results'))\n",
    "prod_datadf.set_index('passid', inplace = True)"
   ]
  },
  {
   "cell_type": "code",
   "execution_count": 7,
   "id": "544dad8b-736d-4896-b73b-76296b844d4e",
   "metadata": {},
   "outputs": [
    {
     "data": {
      "text/html": [
       "<div>\n",
       "<style scoped>\n",
       "    .dataframe tbody tr th:only-of-type {\n",
       "        vertical-align: middle;\n",
       "    }\n",
       "\n",
       "    .dataframe tbody tr th {\n",
       "        vertical-align: top;\n",
       "    }\n",
       "\n",
       "    .dataframe thead th {\n",
       "        text-align: right;\n",
       "    }\n",
       "</style>\n",
       "<table border=\"1\" class=\"dataframe\">\n",
       "  <thead>\n",
       "    <tr style=\"text-align: right;\">\n",
       "      <th></th>\n",
       "      <th>dtg_gmt</th>\n",
       "      <th>model_name</th>\n",
       "      <th>pred_survive</th>\n",
       "      <th>pred_word</th>\n",
       "      <th>trans_pclass</th>\n",
       "      <th>sex</th>\n",
       "      <th>sibsp</th>\n",
       "      <th>parch</th>\n",
       "      <th>fare</th>\n",
       "      <th>embarked</th>\n",
       "      <th>age</th>\n",
       "    </tr>\n",
       "    <tr>\n",
       "      <th>passid</th>\n",
       "      <th></th>\n",
       "      <th></th>\n",
       "      <th></th>\n",
       "      <th></th>\n",
       "      <th></th>\n",
       "      <th></th>\n",
       "      <th></th>\n",
       "      <th></th>\n",
       "      <th></th>\n",
       "      <th></th>\n",
       "      <th></th>\n",
       "    </tr>\n",
       "  </thead>\n",
       "  <tbody>\n",
       "    <tr>\n",
       "      <th>fake_data_856c1de1-a4cc-4214-b508-40aaba128da0</th>\n",
       "      <td>2021-06-15 16:51:37.024</td>\n",
       "      <td>GradientBoostingClassifier_11_30_2020</td>\n",
       "      <td>0</td>\n",
       "      <td>Did Not Survive</td>\n",
       "      <td>3</td>\n",
       "      <td>1</td>\n",
       "      <td>7</td>\n",
       "      <td>4</td>\n",
       "      <td>73.409</td>\n",
       "      <td>2</td>\n",
       "      <td>62.0</td>\n",
       "    </tr>\n",
       "    <tr>\n",
       "      <th>fake_data_4be1c7c4-1c9b-43b1-be7e-4daa152699fc</th>\n",
       "      <td>2021-06-15 16:51:37.025</td>\n",
       "      <td>GradientBoostingClassifier_11_30_2020</td>\n",
       "      <td>1</td>\n",
       "      <td>Survived</td>\n",
       "      <td>2</td>\n",
       "      <td>0</td>\n",
       "      <td>7</td>\n",
       "      <td>5</td>\n",
       "      <td>131.783</td>\n",
       "      <td>3</td>\n",
       "      <td>74.0</td>\n",
       "    </tr>\n",
       "    <tr>\n",
       "      <th>fake_data_4586cd43-9cdb-4bab-8561-eddf0f1f67ed</th>\n",
       "      <td>2021-06-15 16:51:37.026</td>\n",
       "      <td>GradientBoostingClassifier_11_30_2020</td>\n",
       "      <td>0</td>\n",
       "      <td>Did Not Survive</td>\n",
       "      <td>3</td>\n",
       "      <td>1</td>\n",
       "      <td>1</td>\n",
       "      <td>0</td>\n",
       "      <td>219.477</td>\n",
       "      <td>3</td>\n",
       "      <td>37.0</td>\n",
       "    </tr>\n",
       "    <tr>\n",
       "      <th>fake_data_7c9b8a53-e06c-4306-a39a-ad908ce8223b</th>\n",
       "      <td>2021-06-15 16:51:37.026</td>\n",
       "      <td>GradientBoostingClassifier_11_30_2020</td>\n",
       "      <td>0</td>\n",
       "      <td>Did Not Survive</td>\n",
       "      <td>2</td>\n",
       "      <td>1</td>\n",
       "      <td>4</td>\n",
       "      <td>3</td>\n",
       "      <td>376.442</td>\n",
       "      <td>2</td>\n",
       "      <td>14.0</td>\n",
       "    </tr>\n",
       "    <tr>\n",
       "      <th>fake_data_e7c34063-6ebf-43dc-b4d4-8a55b8485360</th>\n",
       "      <td>2021-06-15 16:51:37.027</td>\n",
       "      <td>GradientBoostingClassifier_11_30_2020</td>\n",
       "      <td>0</td>\n",
       "      <td>Did Not Survive</td>\n",
       "      <td>3</td>\n",
       "      <td>0</td>\n",
       "      <td>8</td>\n",
       "      <td>3</td>\n",
       "      <td>375.610</td>\n",
       "      <td>3</td>\n",
       "      <td>26.0</td>\n",
       "    </tr>\n",
       "  </tbody>\n",
       "</table>\n",
       "</div>"
      ],
      "text/plain": [
       "                                                               dtg_gmt  \\\n",
       "passid                                                                   \n",
       "fake_data_856c1de1-a4cc-4214-b508-40aaba128da0 2021-06-15 16:51:37.024   \n",
       "fake_data_4be1c7c4-1c9b-43b1-be7e-4daa152699fc 2021-06-15 16:51:37.025   \n",
       "fake_data_4586cd43-9cdb-4bab-8561-eddf0f1f67ed 2021-06-15 16:51:37.026   \n",
       "fake_data_7c9b8a53-e06c-4306-a39a-ad908ce8223b 2021-06-15 16:51:37.026   \n",
       "fake_data_e7c34063-6ebf-43dc-b4d4-8a55b8485360 2021-06-15 16:51:37.027   \n",
       "\n",
       "                                                                           model_name  \\\n",
       "passid                                                                                  \n",
       "fake_data_856c1de1-a4cc-4214-b508-40aaba128da0  GradientBoostingClassifier_11_30_2020   \n",
       "fake_data_4be1c7c4-1c9b-43b1-be7e-4daa152699fc  GradientBoostingClassifier_11_30_2020   \n",
       "fake_data_4586cd43-9cdb-4bab-8561-eddf0f1f67ed  GradientBoostingClassifier_11_30_2020   \n",
       "fake_data_7c9b8a53-e06c-4306-a39a-ad908ce8223b  GradientBoostingClassifier_11_30_2020   \n",
       "fake_data_e7c34063-6ebf-43dc-b4d4-8a55b8485360  GradientBoostingClassifier_11_30_2020   \n",
       "\n",
       "                                                pred_survive        pred_word  \\\n",
       "passid                                                                          \n",
       "fake_data_856c1de1-a4cc-4214-b508-40aaba128da0             0  Did Not Survive   \n",
       "fake_data_4be1c7c4-1c9b-43b1-be7e-4daa152699fc             1         Survived   \n",
       "fake_data_4586cd43-9cdb-4bab-8561-eddf0f1f67ed             0  Did Not Survive   \n",
       "fake_data_7c9b8a53-e06c-4306-a39a-ad908ce8223b             0  Did Not Survive   \n",
       "fake_data_e7c34063-6ebf-43dc-b4d4-8a55b8485360             0  Did Not Survive   \n",
       "\n",
       "                                                trans_pclass  sex  sibsp  \\\n",
       "passid                                                                     \n",
       "fake_data_856c1de1-a4cc-4214-b508-40aaba128da0             3    1      7   \n",
       "fake_data_4be1c7c4-1c9b-43b1-be7e-4daa152699fc             2    0      7   \n",
       "fake_data_4586cd43-9cdb-4bab-8561-eddf0f1f67ed             3    1      1   \n",
       "fake_data_7c9b8a53-e06c-4306-a39a-ad908ce8223b             2    1      4   \n",
       "fake_data_e7c34063-6ebf-43dc-b4d4-8a55b8485360             3    0      8   \n",
       "\n",
       "                                                parch     fare  embarked   age  \n",
       "passid                                                                          \n",
       "fake_data_856c1de1-a4cc-4214-b508-40aaba128da0      4   73.409         2  62.0  \n",
       "fake_data_4be1c7c4-1c9b-43b1-be7e-4daa152699fc      5  131.783         3  74.0  \n",
       "fake_data_4586cd43-9cdb-4bab-8561-eddf0f1f67ed      0  219.477         3  37.0  \n",
       "fake_data_7c9b8a53-e06c-4306-a39a-ad908ce8223b      3  376.442         2  14.0  \n",
       "fake_data_e7c34063-6ebf-43dc-b4d4-8a55b8485360      3  375.610         3  26.0  "
      ]
     },
     "execution_count": 7,
     "metadata": {},
     "output_type": "execute_result"
    }
   ],
   "source": [
    "prod_datadf.head()"
   ]
  },
  {
   "cell_type": "code",
   "execution_count": 14,
   "id": "bb883c41-bbed-4890-bc8e-d78dd5acbfb0",
   "metadata": {},
   "outputs": [
    {
     "data": {
      "text/plain": [
       "<AxesSubplot:xlabel='pred_survive', ylabel='count'>"
      ]
     },
     "execution_count": 14,
     "metadata": {},
     "output_type": "execute_result"
    },
    {
     "data": {
      "image/png": "[encoded data removed]",
      "text/plain": [
       "<Figure size 576x432 with 1 Axes>"
      ]
     },
     "metadata": {},
     "output_type": "display_data"
    }
   ],
   "source": [
    "plt.figure(figsize=(8,6))\n",
    "sns.countplot(x = 'pred_survive', data = prod_datadf)"
   ]
  },
  {
   "cell_type": "markdown",
   "id": "7b9f94c0-163a-45bb-a83f-26ace4510d39",
   "metadata": {},
   "source": [
    "## Combine the Baseline and Production Dataframes for comparison"
   ]
  },
  {
   "cell_type": "code",
   "execution_count": 34,
   "id": "decde47b-3549-4954-9c3a-6d85aa216202",
   "metadata": {},
   "outputs": [],
   "source": [
    "baseline_datadf2 = baseline_datadf[['dtg_gmt', 'model_name', 'pred_survive']].copy()\n",
    "baseline_datadf2 = baseline_datadf2.rename(columns={'model_name': 'baseline_modelname', 'pred_survive': 'baseline_pred_survive'})\n",
    "prod_datadf2 = prod_datadf[['model_name', 'pred_survive']]\n",
    "prod_datadf2 = prod_datadf2.rename(columns={'model_name': 'prod_modelname', 'pred_survive': 'prod_pred_survive'})\n",
    "base_prod_comparedf = baseline_datadf2.join(prod_datadf2)"
   ]
  },
  {
   "cell_type": "code",
   "execution_count": 35,
   "id": "f6234dcc-7f61-44ed-8ca6-f50ab0350929",
   "metadata": {},
   "outputs": [
    {
     "data": {
      "text/html": [
       "<div>\n",
       "<style scoped>\n",
       "    .dataframe tbody tr th:only-of-type {\n",
       "        vertical-align: middle;\n",
       "    }\n",
       "\n",
       "    .dataframe tbody tr th {\n",
       "        vertical-align: top;\n",
       "    }\n",
       "\n",
       "    .dataframe thead th {\n",
       "        text-align: right;\n",
       "    }\n",
       "</style>\n",
       "<table border=\"1\" class=\"dataframe\">\n",
       "  <thead>\n",
       "    <tr style=\"text-align: right;\">\n",
       "      <th></th>\n",
       "      <th>dtg_gmt</th>\n",
       "      <th>baseline_modelname</th>\n",
       "      <th>baseline_pred_survive</th>\n",
       "      <th>prod_modelname</th>\n",
       "      <th>prod_pred_survive</th>\n",
       "    </tr>\n",
       "    <tr>\n",
       "      <th>passid</th>\n",
       "      <th></th>\n",
       "      <th></th>\n",
       "      <th></th>\n",
       "      <th></th>\n",
       "      <th></th>\n",
       "    </tr>\n",
       "  </thead>\n",
       "  <tbody>\n",
       "    <tr>\n",
       "      <th>fake_data_856c1de1-a4cc-4214-b508-40aaba128da0</th>\n",
       "      <td>2021-06-15 16:51:37.024</td>\n",
       "      <td>GradientBoostingClassifier_11_30_2020</td>\n",
       "      <td>0</td>\n",
       "      <td>GradientBoostingClassifier_11_30_2020</td>\n",
       "      <td>0</td>\n",
       "    </tr>\n",
       "    <tr>\n",
       "      <th>fake_data_4be1c7c4-1c9b-43b1-be7e-4daa152699fc</th>\n",
       "      <td>2021-06-15 16:51:37.025</td>\n",
       "      <td>GradientBoostingClassifier_11_30_2020</td>\n",
       "      <td>1</td>\n",
       "      <td>GradientBoostingClassifier_11_30_2020</td>\n",
       "      <td>1</td>\n",
       "    </tr>\n",
       "    <tr>\n",
       "      <th>fake_data_4586cd43-9cdb-4bab-8561-eddf0f1f67ed</th>\n",
       "      <td>2021-06-15 16:51:37.026</td>\n",
       "      <td>GradientBoostingClassifier_11_30_2020</td>\n",
       "      <td>0</td>\n",
       "      <td>GradientBoostingClassifier_11_30_2020</td>\n",
       "      <td>0</td>\n",
       "    </tr>\n",
       "    <tr>\n",
       "      <th>fake_data_7c9b8a53-e06c-4306-a39a-ad908ce8223b</th>\n",
       "      <td>2021-06-15 16:51:37.026</td>\n",
       "      <td>GradientBoostingClassifier_11_30_2020</td>\n",
       "      <td>0</td>\n",
       "      <td>GradientBoostingClassifier_11_30_2020</td>\n",
       "      <td>0</td>\n",
       "    </tr>\n",
       "    <tr>\n",
       "      <th>fake_data_e7c34063-6ebf-43dc-b4d4-8a55b8485360</th>\n",
       "      <td>2021-06-15 16:51:37.027</td>\n",
       "      <td>GradientBoostingClassifier_11_30_2020</td>\n",
       "      <td>0</td>\n",
       "      <td>GradientBoostingClassifier_11_30_2020</td>\n",
       "      <td>0</td>\n",
       "    </tr>\n",
       "  </tbody>\n",
       "</table>\n",
       "</div>"
      ],
      "text/plain": [
       "                                                               dtg_gmt  \\\n",
       "passid                                                                   \n",
       "fake_data_856c1de1-a4cc-4214-b508-40aaba128da0 2021-06-15 16:51:37.024   \n",
       "fake_data_4be1c7c4-1c9b-43b1-be7e-4daa152699fc 2021-06-15 16:51:37.025   \n",
       "fake_data_4586cd43-9cdb-4bab-8561-eddf0f1f67ed 2021-06-15 16:51:37.026   \n",
       "fake_data_7c9b8a53-e06c-4306-a39a-ad908ce8223b 2021-06-15 16:51:37.026   \n",
       "fake_data_e7c34063-6ebf-43dc-b4d4-8a55b8485360 2021-06-15 16:51:37.027   \n",
       "\n",
       "                                                                   baseline_modelname  \\\n",
       "passid                                                                                  \n",
       "fake_data_856c1de1-a4cc-4214-b508-40aaba128da0  GradientBoostingClassifier_11_30_2020   \n",
       "fake_data_4be1c7c4-1c9b-43b1-be7e-4daa152699fc  GradientBoostingClassifier_11_30_2020   \n",
       "fake_data_4586cd43-9cdb-4bab-8561-eddf0f1f67ed  GradientBoostingClassifier_11_30_2020   \n",
       "fake_data_7c9b8a53-e06c-4306-a39a-ad908ce8223b  GradientBoostingClassifier_11_30_2020   \n",
       "fake_data_e7c34063-6ebf-43dc-b4d4-8a55b8485360  GradientBoostingClassifier_11_30_2020   \n",
       "\n",
       "                                                baseline_pred_survive  \\\n",
       "passid                                                                  \n",
       "fake_data_856c1de1-a4cc-4214-b508-40aaba128da0                      0   \n",
       "fake_data_4be1c7c4-1c9b-43b1-be7e-4daa152699fc                      1   \n",
       "fake_data_4586cd43-9cdb-4bab-8561-eddf0f1f67ed                      0   \n",
       "fake_data_7c9b8a53-e06c-4306-a39a-ad908ce8223b                      0   \n",
       "fake_data_e7c34063-6ebf-43dc-b4d4-8a55b8485360                      0   \n",
       "\n",
       "                                                                       prod_modelname  \\\n",
       "passid                                                                                  \n",
       "fake_data_856c1de1-a4cc-4214-b508-40aaba128da0  GradientBoostingClassifier_11_30_2020   \n",
       "fake_data_4be1c7c4-1c9b-43b1-be7e-4daa152699fc  GradientBoostingClassifier_11_30_2020   \n",
       "fake_data_4586cd43-9cdb-4bab-8561-eddf0f1f67ed  GradientBoostingClassifier_11_30_2020   \n",
       "fake_data_7c9b8a53-e06c-4306-a39a-ad908ce8223b  GradientBoostingClassifier_11_30_2020   \n",
       "fake_data_e7c34063-6ebf-43dc-b4d4-8a55b8485360  GradientBoostingClassifier_11_30_2020   \n",
       "\n",
       "                                                prod_pred_survive  \n",
       "passid                                                             \n",
       "fake_data_856c1de1-a4cc-4214-b508-40aaba128da0                  0  \n",
       "fake_data_4be1c7c4-1c9b-43b1-be7e-4daa152699fc                  1  \n",
       "fake_data_4586cd43-9cdb-4bab-8561-eddf0f1f67ed                  0  \n",
       "fake_data_7c9b8a53-e06c-4306-a39a-ad908ce8223b                  0  \n",
       "fake_data_e7c34063-6ebf-43dc-b4d4-8a55b8485360                  0  "
      ]
     },
     "execution_count": 35,
     "metadata": {},
     "output_type": "execute_result"
    }
   ],
   "source": [
    "base_prod_comparedf.head()"
   ]
  },
  {
   "cell_type": "code",
   "execution_count": null,
   "id": "55a10b7e-c850-4ed4-b822-1ee6c3485b1a",
   "metadata": {},
   "outputs": [],
   "source": []
  }
 ],
 "metadata": {
  "kernelspec": {
   "display_name": "Python 3",
   "language": "python",
   "name": "python3"
  },
  "language_info": {
   "codemirror_mode": {
    "name": "ipython",
    "version": 3
   },
   "file_extension": ".py",
   "mimetype": "text/x-python",
   "name": "python",
   "nbconvert_exporter": "python",
   "pygments_lexer": "ipython3",
   "version": "3.9.4"
  }
 },
 "nbformat": 4,
 "nbformat_minor": 5
}
