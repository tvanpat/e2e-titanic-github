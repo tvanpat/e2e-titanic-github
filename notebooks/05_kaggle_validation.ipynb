{
 "cells": [
  {
   "cell_type": "markdown",
   "metadata": {},
   "source": [
    "# The notebook is to run the Kaggle Validation dataset through the prediction API.  This is used to test both the single and multiple call endpoints."
   ]
  },
  {
   "cell_type": "code",
   "execution_count": 1,
   "metadata": {},
   "outputs": [],
   "source": [
    "import pandas as pd\n",
    "import requests\n",
    "import datetime as dt\n",
    "import json"
   ]
  },
  {
   "cell_type": "code",
   "execution_count": 2,
   "metadata": {},
   "outputs": [],
   "source": [
    "#Load in Kaggle validation data\n",
    "data_path = '/home/jovyan/work/data/test.csv'\n",
    "kaggle_df = pd.read_csv(data_path, index_col=0)"
   ]
  },
  {
   "cell_type": "markdown",
   "metadata": {},
   "source": [
    "## First test the single call by using an apply"
   ]
  },
  {
   "cell_type": "code",
   "execution_count": null,
   "metadata": {},
   "outputs": [],
   "source": [
    "turl = 'http://192.168.86.44:8002/singletitanicpred'"
   ]
  },
  {
   "cell_type": "code",
   "execution_count": null,
   "metadata": {},
   "outputs": [],
   "source": [
    "def single_test(df, turl):\n",
    "    my_values = {\"pclass\": df['Pclass'],\"sex\": df['Sex'],\"sibsp\": df['SibSp'],\"parch\": df['Parch'],\"fare\": df['Fare'],\"embarked\": df['Embarked'],\"age\": df['Age'],\"passid\": df['PassengerId']}\n",
    "    pred_responce = requests.post(turl, json = my_values)\n",
    "    pred_responce_json = pred_responce.json()\n",
    "    return(pred_responce_json['prod_prediciton_binary'])"
   ]
  },
  {
   "cell_type": "code",
   "execution_count": null,
   "metadata": {},
   "outputs": [],
   "source": [
    "# Currently FastAPI does not handel NaN values.  While there is server side validation, if I pass a NaN FastAPI will not accept it.  As a result I will convert NaN values before I send.\n",
    "kaggle_df['Fare'] = kaggle_df['Fare'].fillna(-1)\n",
    "kaggle_df['Embarked'] = kaggle_df['Embarked'].fillna('NA')\n",
    "kaggle_df['Age'] = kaggle_df['Age'].fillna('-1')\n",
    "kaggle_df.reset_index(level=0, inplace=True)"
   ]
  },
  {
   "cell_type": "code",
   "execution_count": null,
   "metadata": {},
   "outputs": [],
   "source": [
    "tic = dt.datetime.now()                   \n",
    "kaggle_df['Prediction'] = kaggle_df.apply(single_test, args=(turl,), axis=1)\n",
    "toc = dt.datetime.now()\n",
    "print(f\"Total Time took {toc - tic}\")"
   ]
  },
  {
   "cell_type": "code",
   "execution_count": null,
   "metadata": {},
   "outputs": [],
   "source": [
    "kaggle_df.head(10)"
   ]
  },
  {
   "cell_type": "markdown",
   "metadata": {},
   "source": [
    "### Total Time was 4 seconds to call each row.  This slow responce is due to the numerous API calls.  It would be faster to write one API call and send all the data at once"
   ]
  },
  {
   "cell_type": "code",
   "execution_count": 17,
   "metadata": {},
   "outputs": [
    {
     "name": "stdout",
     "output_type": "stream",
     "text": [
      "Total Time took 0:00:00.238775\n"
     ]
    },
    {
     "data": {
      "text/html": [
       "<div>\n",
       "<style scoped>\n",
       "    .dataframe tbody tr th:only-of-type {\n",
       "        vertical-align: middle;\n",
       "    }\n",
       "\n",
       "    .dataframe tbody tr th {\n",
       "        vertical-align: top;\n",
       "    }\n",
       "\n",
       "    .dataframe thead th {\n",
       "        text-align: right;\n",
       "    }\n",
       "</style>\n",
       "<table border=\"1\" class=\"dataframe\">\n",
       "  <thead>\n",
       "    <tr style=\"text-align: right;\">\n",
       "      <th></th>\n",
       "      <th>Pclass</th>\n",
       "      <th>Name</th>\n",
       "      <th>Sex</th>\n",
       "      <th>Age</th>\n",
       "      <th>SibSp</th>\n",
       "      <th>Parch</th>\n",
       "      <th>Ticket</th>\n",
       "      <th>Fare</th>\n",
       "      <th>Cabin</th>\n",
       "      <th>Embarked</th>\n",
       "      <th>prod_prediciton_binary</th>\n",
       "      <th>prod_prediction_word</th>\n",
       "    </tr>\n",
       "    <tr>\n",
       "      <th>PassengerId</th>\n",
       "      <th></th>\n",
       "      <th></th>\n",
       "      <th></th>\n",
       "      <th></th>\n",
       "      <th></th>\n",
       "      <th></th>\n",
       "      <th></th>\n",
       "      <th></th>\n",
       "      <th></th>\n",
       "      <th></th>\n",
       "      <th></th>\n",
       "      <th></th>\n",
       "    </tr>\n",
       "  </thead>\n",
       "  <tbody>\n",
       "    <tr>\n",
       "      <th>892</th>\n",
       "      <td>3</td>\n",
       "      <td>Kelly, Mr. James</td>\n",
       "      <td>male</td>\n",
       "      <td>34.5</td>\n",
       "      <td>0</td>\n",
       "      <td>0</td>\n",
       "      <td>330911</td>\n",
       "      <td>7.8292</td>\n",
       "      <td>NaN</td>\n",
       "      <td>Q</td>\n",
       "      <td>0</td>\n",
       "      <td>Did Not Survive</td>\n",
       "    </tr>\n",
       "    <tr>\n",
       "      <th>893</th>\n",
       "      <td>3</td>\n",
       "      <td>Wilkes, Mrs. James (Ellen Needs)</td>\n",
       "      <td>female</td>\n",
       "      <td>47.0</td>\n",
       "      <td>1</td>\n",
       "      <td>0</td>\n",
       "      <td>363272</td>\n",
       "      <td>7.0000</td>\n",
       "      <td>NaN</td>\n",
       "      <td>S</td>\n",
       "      <td>0</td>\n",
       "      <td>Did Not Survive</td>\n",
       "    </tr>\n",
       "    <tr>\n",
       "      <th>894</th>\n",
       "      <td>2</td>\n",
       "      <td>Myles, Mr. Thomas Francis</td>\n",
       "      <td>male</td>\n",
       "      <td>62.0</td>\n",
       "      <td>0</td>\n",
       "      <td>0</td>\n",
       "      <td>240276</td>\n",
       "      <td>9.6875</td>\n",
       "      <td>NaN</td>\n",
       "      <td>Q</td>\n",
       "      <td>0</td>\n",
       "      <td>Did Not Survive</td>\n",
       "    </tr>\n",
       "    <tr>\n",
       "      <th>895</th>\n",
       "      <td>3</td>\n",
       "      <td>Wirz, Mr. Albert</td>\n",
       "      <td>male</td>\n",
       "      <td>27.0</td>\n",
       "      <td>0</td>\n",
       "      <td>0</td>\n",
       "      <td>315154</td>\n",
       "      <td>8.6625</td>\n",
       "      <td>NaN</td>\n",
       "      <td>S</td>\n",
       "      <td>0</td>\n",
       "      <td>Did Not Survive</td>\n",
       "    </tr>\n",
       "    <tr>\n",
       "      <th>896</th>\n",
       "      <td>3</td>\n",
       "      <td>Hirvonen, Mrs. Alexander (Helga E Lindqvist)</td>\n",
       "      <td>female</td>\n",
       "      <td>22.0</td>\n",
       "      <td>1</td>\n",
       "      <td>1</td>\n",
       "      <td>3101298</td>\n",
       "      <td>12.2875</td>\n",
       "      <td>NaN</td>\n",
       "      <td>S</td>\n",
       "      <td>0</td>\n",
       "      <td>Did Not Survive</td>\n",
       "    </tr>\n",
       "  </tbody>\n",
       "</table>\n",
       "</div>"
      ],
      "text/plain": [
       "             Pclass                                          Name     Sex  \\\n",
       "PassengerId                                                                 \n",
       "892               3                              Kelly, Mr. James    male   \n",
       "893               3              Wilkes, Mrs. James (Ellen Needs)  female   \n",
       "894               2                     Myles, Mr. Thomas Francis    male   \n",
       "895               3                              Wirz, Mr. Albert    male   \n",
       "896               3  Hirvonen, Mrs. Alexander (Helga E Lindqvist)  female   \n",
       "\n",
       "              Age  SibSp  Parch   Ticket     Fare Cabin Embarked  \\\n",
       "PassengerId                                                        \n",
       "892          34.5      0      0   330911   7.8292   NaN        Q   \n",
       "893          47.0      1      0   363272   7.0000   NaN        S   \n",
       "894          62.0      0      0   240276   9.6875   NaN        Q   \n",
       "895          27.0      0      0   315154   8.6625   NaN        S   \n",
       "896          22.0      1      1  3101298  12.2875   NaN        S   \n",
       "\n",
       "             prod_prediciton_binary prod_prediction_word  \n",
       "PassengerId                                               \n",
       "892                               0      Did Not Survive  \n",
       "893                               0      Did Not Survive  \n",
       "894                               0      Did Not Survive  \n",
       "895                               0      Did Not Survive  \n",
       "896                               0      Did Not Survive  "
      ]
     },
     "execution_count": 17,
     "metadata": {},
     "output_type": "execute_result"
    }
   ],
   "source": [
    "#Copy DataFrame and pre\n",
    "tic = dt.datetime.now() \n",
    "tempcopy = kaggle_df.copy()\n",
    "#Prepare data for sending to URL\n",
    "tempcopy.reset_index(level=0, inplace=True)\n",
    "apidf = tempcopy[['Pclass', 'Sex', 'SibSp', 'Parch', 'Fare', 'Embarked', 'Age', 'PassengerId']].copy()\n",
    "apidf.rename({\"Pclass\": \"pclass\", \"Sex\": \"sex\", 'SibSp': 'sibsp', 'Parch':'parch', 'Fare': 'fare', 'Embarked':'embarked', 'Age':'age', 'PassengerId': 'passid'}, axis=1, inplace=True)\n",
    "#Currently FastAPI does not handel NaN values.  While there is server side validation, if I pass a NaN FastAPI will not accept it.  As a result I will convert NaN values before I send.\n",
    "apidf['fare'] = apidf['fare'].fillna(-1)\n",
    "apidf['embarked'] = apidf['embarked'].fillna('NA')\n",
    "apidf['age'] = apidf['age'].fillna('-1')\n",
    "apidf_json = apidf.to_json(orient = 'records')\n",
    "# Send data to URL\n",
    "xurl = 'http://192.168.86.44:8002/multititanicpred' # API URL\n",
    "xurl_responce = requests.post(xurl, data = apidf_json)\n",
    "results = xurl_responce.json()\n",
    "results = results['results']\n",
    "#Turn Results into dataframe\n",
    "responce_df = pd.DataFrame(results)\n",
    "responce_df.rename({'passid': 'PassengerId'}, axis=1, inplace=True)\n",
    "responce_df.set_index(\"PassengerId\", inplace=True)\n",
    "#Merge with orginal results\n",
    "newdf = kaggle_df.join(responce_df)\n",
    "toc = dt.datetime.now()\n",
    "print(f\"Total Time took {toc - tic}\")\n",
    "newdf.head()"
   ]
  },
  {
   "cell_type": "markdown",
   "metadata": {},
   "source": [
    "### By passing a whole list instead of one at a time the time to results took less than 1/2 second."
   ]
  },
  {
   "cell_type": "code",
   "execution_count": null,
   "metadata": {},
   "outputs": [],
   "source": []
  }
 ],
 "metadata": {
  "kernelspec": {
   "display_name": "Python 3",
   "language": "python",
   "name": "python3"
  },
  "language_info": {
   "codemirror_mode": {
    "name": "ipython",
    "version": 3
   },
   "file_extension": ".py",
   "mimetype": "text/x-python",
   "name": "python",
   "nbconvert_exporter": "python",
   "pygments_lexer": "ipython3",
   "version": "3.8.8"
  }
 },
 "nbformat": 4,
 "nbformat_minor": 4
}
